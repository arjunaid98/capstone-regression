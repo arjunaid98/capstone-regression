{
  "nbformat": 4,
  "nbformat_minor": 0,
  "metadata": {
    "colab": {
      "private_outputs": true,
      "provenance": []
    },
    "kernelspec": {
      "name": "python3",
      "display_name": "Python 3"
    },
    "language_info": {
      "name": "python"
    }
  },
  "cells": [
    {
      "cell_type": "markdown",
      "metadata": {
        "id": "tOGC-qoyhJeX"
      },
      "source": [
        "# <b><u> Project Title : Taxi trip time Prediction : Predicting total ride duration of taxi trips in New York City</u></b>"
      ]
    },
    {
      "cell_type": "markdown",
      "metadata": {
        "id": "Y06xIdG26kRF"
      },
      "source": [
        "## <b> Problem Description </b>\n",
        "\n",
        "### The task is to build a model that predicts the total ride duration of taxi trips in New York City. The primary dataset is one released by the NYC Taxi and Limousine Commission, which includes pickup time, geo-coordinates, number of passengers, and several other variables."
      ]
    },
    {
      "cell_type": "markdown",
      "metadata": {
        "id": "WWeU1f9bwqQq"
      },
      "source": [
        "## <b> Data Description </b>\n",
        "\n",
        "### Data fields\n",
        "* #### id - a unique identifier for each trip\n",
        "* #### vendor_id - a code indicating the provider associated with the trip record\n",
        "* #### pickup_datetime - date and time when the meter was engaged\n",
        "* #### dropoff_datetime - date and time when the meter was disengaged\n",
        "* #### passenger_count - the number of passengers in the vehicle (driver entered value)\n",
        "* #### pickup_longitude - the longitude where the meter was engaged\n",
        "* #### pickup_latitude - the latitude where the meter was engaged\n",
        "* #### dropoff_longitude - the longitude where the meter was disengaged\n",
        "* #### dropoff_latitude - the latitude where the meter was disengaged\n",
        "* #### store_and_fwd_flag - This flag indicates whether the trip record was held in vehicle memory before sending to the vendor because the vehicle did not have a connection to the server - Y=store and forward; N=not a store and forward trip\n",
        "* #### trip_duration - duration of the trip in seconds"
      ]
    },
    {
      "cell_type": "markdown",
      "metadata": {
        "id": "-HIIXVD-RZN0"
      },
      "source": [
        "#<b>Import libraries"
      ]
    },
    {
      "cell_type": "code",
      "execution_count": null,
      "metadata": {
        "id": "n-iOv8vcMfXb"
      },
      "outputs": [],
      "source": [
        "!pip install klib"
      ]
    },
    {
      "cell_type": "code",
      "execution_count": null,
      "metadata": {
        "id": "dByMsuzT8Tnw"
      },
      "outputs": [],
      "source": [
        "import klib \n",
        "import numpy as np\n",
        "import pandas as pd\n",
        "import seaborn as sns\n",
        "\n",
        "from sklearn.metrics import accuracy_score, auc\n",
        "from sklearn.model_selection import train_test_split\n",
        "from sklearn.tree import DecisionTreeRegressor\n",
        "\n",
        "import matplotlib.pyplot as plt\n",
        "from sklearn.tree import plot_tree\n",
        "import datetime as dt\n",
        "import warnings; warnings.simplefilter('ignore')"
      ]
    },
    {
      "cell_type": "markdown",
      "metadata": {
        "id": "U7JS-FugSJJK"
      },
      "source": [
        "#<b>Mount Google Drive"
      ]
    },
    {
      "cell_type": "code",
      "execution_count": null,
      "metadata": {
        "id": "CFRmG_YUd1FU"
      },
      "outputs": [],
      "source": [
        "from google.colab import drive\n",
        "drive.mount('/content/drive')"
      ]
    },
    {
      "cell_type": "markdown",
      "metadata": {
        "id": "-pJlgM-3SgmY"
      },
      "source": [
        "#<b>Import Dataset"
      ]
    },
    {
      "cell_type": "code",
      "execution_count": null,
      "metadata": {
        "id": "bIyyLXxuLerM"
      },
      "outputs": [],
      "source": [
        "nyc_taxi = pd.read_csv('/content/drive/MyDrive/NYC/NYC.csv')"
      ]
    },
    {
      "cell_type": "markdown",
      "metadata": {
        "id": "gmF02-jQh9YW"
      },
      "source": [
        "#<b>Data Overview"
      ]
    },
    {
      "cell_type": "code",
      "execution_count": null,
      "metadata": {
        "id": "AJUYntHJcoBc"
      },
      "outputs": [],
      "source": [
        "nyc_taxi.head()"
      ]
    },
    {
      "cell_type": "code",
      "execution_count": null,
      "metadata": {
        "id": "f35KN4e4gcYL"
      },
      "outputs": [],
      "source": [
        "nyc_taxi.tail()"
      ]
    },
    {
      "cell_type": "code",
      "execution_count": null,
      "metadata": {
        "id": "Ug9PFjGhcv4Y"
      },
      "outputs": [],
      "source": [
        "nyc_taxi.info()"
      ]
    },
    {
      "cell_type": "code",
      "execution_count": null,
      "metadata": {
        "id": "i-Xm16Ijcv8D"
      },
      "outputs": [],
      "source": [
        "nyc_taxi.describe(include= 'all')"
      ]
    },
    {
      "cell_type": "code",
      "execution_count": null,
      "metadata": {
        "id": "F2V0W1m3cv_-"
      },
      "outputs": [],
      "source": [
        "nyc_taxi.isnull().sum()"
      ]
    },
    {
      "cell_type": "code",
      "execution_count": null,
      "metadata": {
        "id": "cYoc48dceAmp"
      },
      "outputs": [],
      "source": [
        "nyc_taxi.nunique()"
      ]
    },
    {
      "cell_type": "markdown",
      "metadata": {
        "id": "_rqYP1f6iDWv"
      },
      "source": [
        "#<b> Exploratary Data Analysis"
      ]
    },
    {
      "cell_type": "markdown",
      "metadata": {
        "id": "WS5ka75tNP4Z"
      },
      "source": [
        "##<b>So Lets do Some Exploratary data analysis of dataset  if any inconsitancy somewhere lets deal with that"
      ]
    },
    {
      "cell_type": "markdown",
      "metadata": {
        "id": "EBg6kETKegUi"
      },
      "source": [
        "<b>Using klib Python library for cleaning, analyzing and preprocessing data."
      ]
    },
    {
      "cell_type": "code",
      "execution_count": null,
      "metadata": {
        "id": "G3XFPaAGM0zT"
      },
      "outputs": [],
      "source": [
        "klib.cat_plot(nyc_taxi)"
      ]
    },
    {
      "cell_type": "code",
      "execution_count": null,
      "metadata": {
        "id": "nPdqyDrUM6JX"
      },
      "outputs": [],
      "source": [
        "klib.dist_plot(nyc_taxi)"
      ]
    },
    {
      "cell_type": "code",
      "execution_count": null,
      "metadata": {
        "id": "VCPLt_umg7dk"
      },
      "outputs": [],
      "source": [
        "klib.corr_plot(nyc_taxi, target=nyc_taxi['trip_duration'])"
      ]
    },
    {
      "cell_type": "code",
      "execution_count": null,
      "metadata": {
        "id": "yCOT_qOJLene"
      },
      "outputs": [],
      "source": [
        "print(\"Number of rows is: \", nyc_taxi.shape[0])\n",
        "print(\"Number of columns is: \", nyc_taxi.shape[1])"
      ]
    },
    {
      "cell_type": "code",
      "execution_count": null,
      "metadata": {
        "id": "cRFlgz13LekW"
      },
      "outputs": [],
      "source": [
        "nyc_taxi.columns"
      ]
    },
    {
      "cell_type": "code",
      "execution_count": null,
      "metadata": {
        "id": "ve-SfSdEQqCg"
      },
      "outputs": [],
      "source": [
        "nyc_taxi['pickup_datetime'] = pd.to_datetime(nyc_taxi['pickup_datetime'])\n",
        "nyc_taxi['dropoff_datetime'] = pd.to_datetime(nyc_taxi['dropoff_datetime'])"
      ]
    },
    {
      "cell_type": "code",
      "execution_count": null,
      "metadata": {
        "id": "aEACI2rLbCLK"
      },
      "outputs": [],
      "source": [
        "nyc_taxi.describe()"
      ]
    },
    {
      "cell_type": "markdown",
      "metadata": {
        "id": "yw11oygIUfnL"
      },
      "source": [
        "#**Feature Creation**\n",
        "Now, let us extract pickup_datetime and dropoff_datetimeand create Some new features from this datetime features we  have just created."
      ]
    },
    {
      "cell_type": "code",
      "execution_count": null,
      "metadata": {
        "id": "n9VeEGxVQp9c"
      },
      "outputs": [],
      "source": [
        "nyc_taxi['pickup_day']=nyc_taxi['pickup_datetime'].dt.day_name()\n",
        "nyc_taxi['dropoff_day']=nyc_taxi['dropoff_datetime'].dt.day_name()\n",
        "\n",
        "nyc_taxi['pickup_day_no']=nyc_taxi['pickup_datetime'].dt.weekday\n",
        "nyc_taxi['dropoff_day_no']=nyc_taxi['dropoff_datetime'].dt.weekday\n",
        "\n",
        "nyc_taxi['pickup_hour']=nyc_taxi['pickup_datetime'].dt.hour\n",
        "nyc_taxi['dropoff_hour']=nyc_taxi['dropoff_datetime'].dt.hour\n",
        "\n",
        "nyc_taxi['pickup_month']=nyc_taxi['pickup_datetime'].dt.month\n",
        "nyc_taxi['dropoff_month']=nyc_taxi['dropoff_datetime'].dt.month"
      ]
    },
    {
      "cell_type": "markdown",
      "metadata": {
        "id": "vNbl-qGhXy73"
      },
      "source": [
        "**I have created the following features:**\n",
        "\n",
        "**pickup_day and dropoff_day** which will contain the name of the day on which the ride was taken.\n",
        "**pickup_day_no and dropoff_day_n**o which will contain the day number instead of characters with Monday=0 and Sunday=6.\n",
        "**pickup_hour and dropoff_hour** with an hour of the day in the 24-hour format.\n",
        "**pickup_month and dropoff_month** with month number "
      ]
    },
    {
      "cell_type": "markdown",
      "metadata": {
        "id": "sCv1khOkjVon"
      },
      "source": [
        "###**Importing the geopy.distance library which will help us calculate distance from geographical coordinates**."
      ]
    },
    {
      "cell_type": "code",
      "execution_count": null,
      "metadata": {
        "id": "Dfpb-qQsQp7f"
      },
      "outputs": [],
      "source": [
        "from geopy.distance import great_circle"
      ]
    },
    {
      "cell_type": "code",
      "execution_count": null,
      "metadata": {
        "id": "kNZ8vz-kQp3T"
      },
      "outputs": [],
      "source": [
        "def cal_distance(pickup_lat,pickup_long,dropoff_lat,dropoff_long):\n",
        " \n",
        " start_coordinates=(pickup_lat,pickup_long)\n",
        " stop_coordinates=(dropoff_lat,dropoff_long)\n",
        " \n",
        " return great_circle(start_coordinates,stop_coordinates).km"
      ]
    },
    {
      "cell_type": "code",
      "execution_count": null,
      "metadata": {
        "id": "AJJIxMyBQpzv"
      },
      "outputs": [],
      "source": [
        "nyc_taxi['distance'] = nyc_taxi.apply(lambda x: cal_distance(x['pickup_latitude'],x['pickup_longitude'],x['dropoff_latitude'],x['dropoff_longitude'] ), axis=1)"
      ]
    },
    {
      "cell_type": "markdown",
      "metadata": {
        "id": "dTezg-D8Ycox"
      },
      "source": [
        "**Lets Create New Feature Speed(km/Hr) With help of Distance and Duration Column**"
      ]
    },
    {
      "cell_type": "code",
      "execution_count": null,
      "metadata": {
        "id": "uJsoA47HQpx0"
      },
      "outputs": [],
      "source": [
        "nyc_taxi['speed'] = (nyc_taxi.distance*3600/(nyc_taxi.trip_duration))"
      ]
    },
    {
      "cell_type": "markdown",
      "metadata": {
        "id": "fBPsmEG0ZIbm"
      },
      "source": [
        "\n",
        "\n",
        "1.**Morning** (from 6:00 am to 11:59 pm),\n",
        "\n",
        "2.**Afternoon** (from 12 noon to 3:59 pm),\n",
        "\n",
        "3.**Evening** (from 4:00 pm to 9:59 pm), and\n",
        "\n",
        "4.**Late Night** (from 10:00 pm to 5:59 am)"
      ]
    },
    {
      "cell_type": "code",
      "execution_count": null,
      "metadata": {
        "id": "CLvzz7BVQpbA"
      },
      "outputs": [],
      "source": [
        "def time_of_day(x):\n",
        "    if x in range(6,12):\n",
        "        return 'Morning'\n",
        "    elif x in range(12,16):\n",
        "        return 'Afternoon'\n",
        "    elif x in range(16,22):\n",
        "        return 'Evening'\n",
        "    else:\n",
        "        return 'Late night'"
      ]
    },
    {
      "cell_type": "code",
      "execution_count": null,
      "metadata": {
        "id": "W7UJXzP-QpYx"
      },
      "outputs": [],
      "source": [
        "nyc_taxi['pickup_timeofday'] = nyc_taxi['pickup_hour'].apply(time_of_day)\n",
        "nyc_taxi['dropoff_timeofday']=nyc_taxi['dropoff_hour'].apply(time_of_day)"
      ]
    },
    {
      "cell_type": "code",
      "execution_count": null,
      "metadata": {
        "id": "2qDAAhdIQpWy"
      },
      "outputs": [],
      "source": [
        "nyc_taxi.head()"
      ]
    },
    {
      "cell_type": "code",
      "execution_count": null,
      "metadata": {
        "id": "5XAb1biHtx3w"
      },
      "outputs": [],
      "source": [
        "nyc_taxi.dtypes"
      ]
    },
    {
      "cell_type": "markdown",
      "metadata": {
        "id": "rdYwcOjYaJB4"
      },
      "source": [
        "Now our dataset is complete for the further analysis before we train our model with optimal variables."
      ]
    },
    {
      "cell_type": "markdown",
      "metadata": {
        "id": "5AXdj8zqaVZ7"
      },
      "source": [
        "#**Analysis**\n",
        "\n",
        "**Target Variable**\n",
        "\n",
        "Let us start with the target varibale i.e trip duration.\n",
        "# **1.Trip duration.**"
      ]
    },
    {
      "cell_type": "code",
      "execution_count": null,
      "metadata": {
        "id": "RWPvD7tMlYZI"
      },
      "outputs": [],
      "source": [
        "sns.histplot(nyc_taxi['trip_duration'],kde=False,bins=20)"
      ]
    },
    {
      "cell_type": "code",
      "execution_count": null,
      "metadata": {
        "id": "2QP8lq4Sk-IX"
      },
      "outputs": [],
      "source": [
        "sns.boxplot(nyc_taxi['trip_duration'])"
      ]
    },
    {
      "cell_type": "code",
      "execution_count": null,
      "metadata": {
        "id": "VsrKbJxzQpNd"
      },
      "outputs": [],
      "source": [
        "for i in range(0,100,10):\n",
        "  duration= nyc_taxi['trip_duration'].values\n",
        "  duration= np.sort(duration, axis= None)\n",
        "  print(\"{} percentile value is {}\".format(i, duration[int(len(duration)*(float(i)/100))]))\n",
        "print(\"100 percentile value is \",duration[-1])"
      ]
    },
    {
      "cell_type": "code",
      "execution_count": null,
      "metadata": {
        "id": "K6vhYsnjQpLw"
      },
      "outputs": [],
      "source": [
        "for i in range(90,100):\n",
        "  duration= nyc_taxi['trip_duration'].values\n",
        "  duration= np.sort(duration, axis= None)\n",
        "  print(\"{} percentile value is {}\".format(i, duration[int(len(duration)*(float(i)/100))]))\n",
        "print(\"100 percentile value is \",duration[-1])"
      ]
    },
    {
      "cell_type": "code",
      "execution_count": null,
      "metadata": {
        "id": "5wADOQwGxWJK"
      },
      "outputs": [],
      "source": [
        "for i in range(0,10):\n",
        "  duration= nyc_taxi['trip_duration'].values\n",
        "  duration= np.sort(duration, axis= None)\n",
        "  print(\"{} percentile value is {}\".format(i, duration[int(len(duration)*(float(i)/100))]))\n",
        "print(\"100 percentile value is \",duration[-1])"
      ]
    },
    {
      "cell_type": "code",
      "execution_count": null,
      "metadata": {
        "id": "SYjUQq4wYlro"
      },
      "outputs": [],
      "source": [
        "nyc_taxi = nyc_taxi[nyc_taxi.trip_duration <= 3400]"
      ]
    },
    {
      "cell_type": "code",
      "execution_count": null,
      "metadata": {
        "id": "GaOR6I5BQpUH"
      },
      "outputs": [],
      "source": [
        "plt.figure(figsize = (10,5))\n",
        "sns.distplot(nyc_taxi['trip_duration'])\n",
        "plt.xlabel('Trip Duration')\n",
        "plt.show()"
      ]
    },
    {
      "cell_type": "code",
      "execution_count": null,
      "metadata": {
        "id": "SdRkbPt-QpRx"
      },
      "outputs": [],
      "source": [
        "plt.figure(figsize = (10,5))\n",
        "sns.distplot(np.log10(nyc_taxi['trip_duration']))\n",
        "plt.xlabel('Trip Duration')\n",
        "plt.show()"
      ]
    },
    {
      "cell_type": "code",
      "execution_count": null,
      "metadata": {
        "id": "uOxUbLnAQpPn"
      },
      "outputs": [],
      "source": [
        "plt.figure(figsize = (10,5))\n",
        "sns.boxplot(nyc_taxi.trip_duration)\n",
        "plt.xlabel('Trip Duration')\n",
        "plt.show()"
      ]
    },
    {
      "cell_type": "markdown",
      "metadata": {
        "id": "jHayDD9yb3PR"
      },
      "source": [
        "We can clearly see an outlier and should be removed for the data consistency.\n",
        "\n",
        "Calclating 0-100th percentille to find a correct percentile value for removal of outliers."
      ]
    },
    {
      "cell_type": "markdown",
      "metadata": {
        "id": "OcU-kBdDcmFN"
      },
      "source": [
        "The 90th percentile i.e. 1634 looks reasonable. But, 100th percentile i.e. 3526282 is outlier. Hence removing these would be a better idea.\n",
        "\n",
        "Let's expand from 90th percentile to 100th percentile as to look further for the 99th percentile."
      ]
    },
    {
      "cell_type": "markdown",
      "metadata": {
        "id": "fMBZHl5MdEnE"
      },
      "source": [
        "**Let's visualize the number of trips taken in diifferent slabs of ... secconds respectively**"
      ]
    },
    {
      "cell_type": "code",
      "execution_count": null,
      "metadata": {
        "id": "gxiWFQtTQpJQ"
      },
      "outputs": [],
      "source": [
        "plt.figure(figsize = (10,5))\n",
        "nyc_taxi.trip_duration.groupby(pd.cut(nyc_taxi.trip_duration, np.arange(1,5000,500))).count().plot(kind='bar')\n",
        "plt.xlabel('Trip Duration Slots in Second')\n",
        "plt.ylabel('Trip Counts')\n",
        "plt.show()"
      ]
    },
    {
      "cell_type": "code",
      "execution_count": null,
      "metadata": {
        "id": "TFEqUfOPxWZZ"
      },
      "outputs": [],
      "source": [
        "plt.figure(figsize = (10,5))\n",
        "nyc_taxi.trip_duration.groupby(pd.cut(nyc_taxi.trip_duration, np.arange(0,600,60))).count().plot(kind='bar')\n",
        "plt.xlabel('Trip Duration Slots in Second')\n",
        "plt.ylabel('Trip Counts')\n",
        "plt.show()"
      ]
    },
    {
      "cell_type": "code",
      "execution_count": null,
      "metadata": {
        "id": "YrbQq2nXynsB"
      },
      "outputs": [],
      "source": [
        "plt.figure(figsize = (10,5))\n",
        "nyc_taxi.trip_duration.groupby(pd.cut(nyc_taxi.trip_duration, np.arange(0,61,5))).count().plot(kind='bar')\n",
        "plt.xlabel('Trip Duration Slots in Second')\n",
        "plt.ylabel('Trip Counts')\n",
        "plt.show()"
      ]
    },
    {
      "cell_type": "markdown",
      "metadata": {
        "id": "WYGuLN1X2u0q"
      },
      "source": [
        "# **2.Pickup_timeofday & Dropoff_timeofday**"
      ]
    },
    {
      "cell_type": "code",
      "execution_count": null,
      "metadata": {
        "id": "n9SB1pW50MGm"
      },
      "outputs": [],
      "source": [
        "figure,(ax3,ax4)=plt.subplots(ncols=2,figsize=(20,5))\n",
        "ax3.set_title('Pickup Time of Day')\n",
        "ax=sns.countplot(x=\"pickup_timeofday\",data=nyc_taxi,ax=ax3)\n",
        "ax4.set_title('Dropoff Time of Day')\n",
        "ax=sns.countplot(x=\"dropoff_timeofday\",data=nyc_taxi,ax=ax4)"
      ]
    },
    {
      "cell_type": "markdown",
      "metadata": {
        "id": "EQl-0kiAf3jH"
      },
      "source": [
        "As we saw above, evenings are the busiest."
      ]
    },
    {
      "cell_type": "markdown",
      "metadata": {
        "id": "iRtgTPWZf7_f"
      },
      "source": [
        "# <b>3. Vendor id"
      ]
    },
    {
      "cell_type": "code",
      "execution_count": null,
      "metadata": {
        "id": "Kjqsnh_YQo7j"
      },
      "outputs": [],
      "source": [
        "plt.figure(figsize = (10,5))\n",
        "sns.countplot(nyc_taxi.vendor_id)\n",
        "plt.xlabel('Vendor ID')\n",
        "plt.ylabel('Count')\n",
        "plt.show()"
      ]
    },
    {
      "cell_type": "markdown",
      "metadata": {
        "id": "TD7LZ7d8gYDt"
      },
      "source": [
        "We see that there is not so much difference between the trips taken by both vendors."
      ]
    },
    {
      "cell_type": "markdown",
      "metadata": {
        "id": "6L1s7nwGgeV-"
      },
      "source": [
        "# <b>4. Passenger count"
      ]
    },
    {
      "cell_type": "code",
      "execution_count": null,
      "metadata": {
        "id": "vvOJiNBjazlh"
      },
      "outputs": [],
      "source": [
        "sns.boxplot(nyc_taxi['passenger_count'])"
      ]
    },
    {
      "cell_type": "code",
      "execution_count": null,
      "metadata": {
        "id": "_8-MM7x11iPt"
      },
      "outputs": [],
      "source": [
        "no_of_passenger = nyc_taxi['passenger_count'].value_counts().reset_index()\n",
        "no_of_passenger.rename(columns={'index':'no_of_passenger', 'passenger_count':'trip_counts'})"
      ]
    },
    {
      "cell_type": "markdown",
      "metadata": {
        "id": "zQWGrIxVhRSK"
      },
      "source": [
        "Let us remove the rows which have 0,7, 8 and 9 passenger count"
      ]
    },
    {
      "cell_type": "code",
      "execution_count": null,
      "metadata": {
        "id": "CJVDEBJ111h6"
      },
      "outputs": [],
      "source": [
        "nyc_taxi = nyc_taxi[nyc_taxi['passenger_count'] != 0]\n",
        "nyc_taxi = nyc_taxi[nyc_taxi['passenger_count']<=6]"
      ]
    },
    {
      "cell_type": "code",
      "execution_count": null,
      "metadata": {
        "id": "dN26YmknQo5e"
      },
      "outputs": [],
      "source": [
        "plt.figure(figsize = (10,5))\n",
        "sns.countplot(x='passenger_count',data=nyc_taxi)\n",
        "plt.ylabel('Count')\n",
        "plt.xlabel('No.of Passngers')\n",
        "plt.show()"
      ]
    },
    {
      "cell_type": "markdown",
      "metadata": {
        "id": "zXo8nhMKiDkL"
      },
      "source": [
        "* We see the highest amount of trips was taken by a single passenger.\n",
        "* The instance of large group of people travelling together is rare."
      ]
    },
    {
      "cell_type": "markdown",
      "metadata": {
        "id": "gttKNafXidUD"
      },
      "source": [
        "# <b>5.Store and Forward Flag"
      ]
    },
    {
      "cell_type": "code",
      "execution_count": null,
      "metadata": {
        "id": "gsfE7fPYhbi6"
      },
      "outputs": [],
      "source": [
        "nyc_taxi['store_and_fwd_flag'].value_counts(normalize=True)"
      ]
    },
    {
      "cell_type": "code",
      "execution_count": null,
      "metadata": {
        "id": "ByPSdtJV3coM"
      },
      "outputs": [],
      "source": [
        "plt.figure(figsize = (10,5))\n",
        "sns.countplot(x='store_and_fwd_flag',data=nyc_taxi)\n",
        "plt.ylabel('Count')\n",
        "plt.xlabel('store_and_fwd_flag')\n",
        "plt.show()"
      ]
    },
    {
      "cell_type": "markdown",
      "metadata": {
        "id": "d9VWtuqti8fU"
      },
      "source": [
        "# <b>6.Distance"
      ]
    },
    {
      "cell_type": "code",
      "execution_count": null,
      "metadata": {
        "id": "B5Pt654_4Myp"
      },
      "outputs": [],
      "source": [
        "plt.figure(figsize = (10,5))\n",
        "sns.distplot(nyc_taxi['distance'])\n",
        "plt.xlabel('distance')\n",
        "plt.show()"
      ]
    },
    {
      "cell_type": "code",
      "execution_count": null,
      "metadata": {
        "id": "_-uLlfPj7QTn"
      },
      "outputs": [],
      "source": [
        "nyc_taxi = nyc_taxi[nyc_taxi['distance'] > 0.05]"
      ]
    },
    {
      "cell_type": "code",
      "execution_count": null,
      "metadata": {
        "id": "F6-cjNMgvvfa"
      },
      "outputs": [],
      "source": [
        "plt.figure(figsize = (10,5))\n",
        "sns.distplot(np.log10(nyc_taxi['distance']))\n",
        "plt.xlabel('distance')\n",
        "plt.show()"
      ]
    },
    {
      "cell_type": "code",
      "execution_count": null,
      "metadata": {
        "id": "1zeVFXA63ypO"
      },
      "outputs": [],
      "source": [
        "plt.figure(figsize = (10,5))\n",
        "nyc_taxi.distance.groupby(pd.cut(nyc_taxi.distance, np.arange(0,1200,100))).count().plot(kind='bar')\n",
        "plt.xlabel('Trip distance Slots in km')\n",
        "plt.ylabel('Trip Counts')\n",
        "plt.show()"
      ]
    },
    {
      "cell_type": "code",
      "execution_count": null,
      "metadata": {
        "id": "qDynR3Fs4J_V"
      },
      "outputs": [],
      "source": [
        "plt.figure(figsize = (10,5))\n",
        "nyc_taxi.distance.groupby(pd.cut(nyc_taxi.distance, np.arange(100,1001,100))).count().plot(kind='bar')\n",
        "plt.xlabel('Trip distance Slots in km')\n",
        "plt.ylabel('Trip Counts')\n",
        "plt.show()"
      ]
    },
    {
      "cell_type": "code",
      "execution_count": null,
      "metadata": {
        "id": "0TNbVqxM5WnM"
      },
      "outputs": [],
      "source": [
        "plt.figure(figsize = (10,5))\n",
        "nyc_taxi.distance.groupby(pd.cut(nyc_taxi.distance, np.arange(0.5,10.1,0.5))).count().plot(kind='bar')\n",
        "plt.xlabel('Trip distance Slots in km')\n",
        "plt.ylabel('Trip Counts')\n",
        "plt.show()"
      ]
    },
    {
      "cell_type": "code",
      "execution_count": null,
      "metadata": {
        "id": "f51P0-Z-4fLV"
      },
      "outputs": [],
      "source": [
        "plt.figure(figsize = (10,5))\n",
        "nyc_taxi.speed.groupby(pd.cut(nyc_taxi.distance, np.arange(0,1.05,0.05))).count().plot(kind='bar')\n",
        "plt.xlabel('Trip distance Slots in km')\n",
        "plt.ylabel('Trip Counts')\n",
        "plt.show()"
      ]
    },
    {
      "cell_type": "code",
      "execution_count": null,
      "metadata": {
        "id": "wRXC7cei80al"
      },
      "outputs": [],
      "source": [
        "nyc_taxi = nyc_taxi[nyc_taxi['distance'] <= 100]"
      ]
    },
    {
      "cell_type": "code",
      "execution_count": null,
      "metadata": {
        "id": "zQYqETZS7xLw"
      },
      "outputs": [],
      "source": [
        "nyc_taxi.distance.max()"
      ]
    },
    {
      "cell_type": "markdown",
      "metadata": {
        "id": "9oWRsLLSkAQO"
      },
      "source": [
        "# <b>7.Speed"
      ]
    },
    {
      "cell_type": "code",
      "execution_count": null,
      "metadata": {
        "id": "o29zhGLh5Rfx"
      },
      "outputs": [],
      "source": [
        "plt.figure(figsize = (10,5))\n",
        "sns.distplot(nyc_taxi['speed'])\n",
        "plt.xlabel('Speed (km/hr)')\n",
        "plt.show()"
      ]
    },
    {
      "cell_type": "code",
      "execution_count": null,
      "metadata": {
        "id": "OfFpdAtU_82-"
      },
      "outputs": [],
      "source": [
        "nyc_taxi.speed.max()"
      ]
    },
    {
      "cell_type": "markdown",
      "metadata": {
        "id": "o3sCx61-ETYh"
      },
      "source": [
        "So At Some Places Speed of the taxi is quite high its from **200 to 9274** So which is unresonble.\n",
        "\n",
        "1. So it may be because of Some pasemger they might have canceled trip in between on  the way after traveling some distance.\n",
        "2. The dropoff location couldn’t be tracked.\n",
        "3. The passengers or driver cancelled the trip due to some issue.\n",
        "4. Due to some technical issue in software, etc.\n",
        "\n",
        "so in order to have consitant data **lets drop the rows which have speed more than 50 km/hr.** "
      ]
    },
    {
      "cell_type": "code",
      "execution_count": null,
      "metadata": {
        "id": "kOvgAJ31-G7l"
      },
      "outputs": [],
      "source": [
        "nyc_taxi = nyc_taxi[nyc_taxi['speed']<=50]\n",
        "nyc_taxi = nyc_taxi[nyc_taxi['speed']>=5]"
      ]
    },
    {
      "cell_type": "code",
      "execution_count": null,
      "metadata": {
        "id": "kjMc79039pDU"
      },
      "outputs": [],
      "source": [
        "plt.figure(figsize = (10,5))\n",
        "sns.distplot(nyc_taxi['speed'])\n",
        "plt.xlabel('Speed (km/hr)')\n",
        "plt.show()"
      ]
    },
    {
      "cell_type": "markdown",
      "metadata": {
        "id": "9XsNNEDUlEQj"
      },
      "source": [
        "There are trips that were done at a speed of over 100 km/h.\n",
        "\n",
        "As per the rule in NYC, the speed limit is 25 mph(approx. 40km/h) in New York City."
      ]
    },
    {
      "cell_type": "markdown",
      "metadata": {
        "id": "JQg1lApKmR8m"
      },
      "source": [
        " **Mostly trips are done at a speed range of 5-25 km/hr.**"
      ]
    },
    {
      "cell_type": "markdown",
      "metadata": {
        "id": "CesDtm-_mVuN"
      },
      "source": [
        "# <b>8.Pickup_hour & Dropup_hour"
      ]
    },
    {
      "cell_type": "code",
      "execution_count": null,
      "metadata": {
        "id": "O2eXR_Juha_k"
      },
      "outputs": [],
      "source": [
        "figure,(ax3,ax4)=plt.subplots(ncols=2,figsize=(20,5))\n",
        "ax3.set_title('Pickup Time of Day (24hr format)')\n",
        "ax=sns.countplot(x=\"pickup_hour\",data=nyc_taxi,ax=ax3)\n",
        "ax4.set_title('Dropoff Time of Day (24hr format)')\n",
        "ax=sns.countplot(x=\"dropoff_hour\",data=nyc_taxi,ax=ax4)"
      ]
    },
    {
      "cell_type": "markdown",
      "metadata": {
        "id": "D3v0uFI7miK9"
      },
      "source": [
        "We see the busiest hours are 6:00 pm to 7:00 pm which makes sense as this is the time for people to return home from work."
      ]
    },
    {
      "cell_type": "markdown",
      "metadata": {
        "id": "d69OLye3mjLi"
      },
      "source": [
        "# <b> 9. Pickup_day & Dropup_day"
      ]
    },
    {
      "cell_type": "code",
      "execution_count": null,
      "metadata": {
        "id": "_9wMEEEyha9k"
      },
      "outputs": [],
      "source": [
        "figure,(ax1,ax2)=plt.subplots(ncols=2,figsize=(20,5))\n",
        "ax1.set_title('Pickup Days')\n",
        "ax=sns.countplot(x=\"pickup_day\",data=nyc_taxi,ax=ax1)\n",
        "ax2.set_title('Dropoff Days')\n",
        "ax=sns.countplot(x=\"dropoff_day\",data=nyc_taxi,ax=ax2)"
      ]
    },
    {
      "cell_type": "markdown",
      "metadata": {
        "id": "cFrWWDrFmwKu"
      },
      "source": [
        "We see Fridays are the busiest days followed by Saturdays. That is probably because it’s weekend."
      ]
    },
    {
      "cell_type": "markdown",
      "metadata": {
        "id": "7IyGWiKbm0ON"
      },
      "source": [
        "# **10.Pickup_month & Dropup_month**"
      ]
    },
    {
      "cell_type": "code",
      "execution_count": null,
      "metadata": {
        "id": "6KyfUzzPha7D"
      },
      "outputs": [],
      "source": [
        "figure,(ax1,ax2)=plt.subplots(ncols=2,figsize=(20,5))\n",
        "ax1.set_title('Pickup Months (Jan=1 to June=6)')\n",
        "ax=sns.countplot(x=\"pickup_month\",data=nyc_taxi,ax=ax1)\n",
        "ax2.set_title('Dropoff Months (Jan=1 to June=6)')\n",
        "ax=sns.countplot(x=\"dropoff_month\",data=nyc_taxi,ax=ax2)"
      ]
    },
    {
      "cell_type": "markdown",
      "metadata": {
        "id": "uD5S6Pdxm-6j"
      },
      "source": [
        "There is not much difference in the number of trips across months."
      ]
    },
    {
      "cell_type": "markdown",
      "source": [
        "##<b> Latitude and longitude"
      ],
      "metadata": {
        "id": "wokC9yrrw5y2"
      }
    },
    {
      "cell_type": "code",
      "source": [
        "figure,(ax3,ax4)=plt.subplots(ncols=2,figsize=(20,5))\n",
        "ax3.set_title('Pickup Location')\n",
        "ax=sns.scatterplot(x=nyc_taxi.pickup_longitude,y=nyc_taxi.pickup_latitude,ax=ax3)\n",
        "ax4.set_title('Dropoff Location')\n",
        "ax=sns.scatterplot(x=nyc_taxi.dropoff_longitude,y=nyc_taxi.dropoff_latitude,ax=ax4)"
      ],
      "metadata": {
        "id": "g0SbdoNjxhn7"
      },
      "execution_count": null,
      "outputs": []
    },
    {
      "cell_type": "markdown",
      "metadata": {
        "id": "pF13UbfrnC_z"
      },
      "source": [
        "#<b>Bivariate Analysis\n",
        "\n",
        "1.Trip Duration per Vendor"
      ]
    },
    {
      "cell_type": "code",
      "source": [
        "plt.figure(figsize = (10,5))\n",
        "sns.catplot(y='trip_duration',x='vendor_id',data=nyc_taxi,estimator=np.mean)\n",
        "plt.xlabel('Vendor ID')\n",
        "plt.ylabel('Trip Duration')\n",
        "plt.show()"
      ],
      "metadata": {
        "id": "BQdEVQvQoQfe"
      },
      "execution_count": null,
      "outputs": []
    },
    {
      "cell_type": "markdown",
      "metadata": {
        "id": "AKh6ZgOVnncd"
      },
      "source": [
        "There is no difference beteen  vendor 1 and 2"
      ]
    },
    {
      "cell_type": "markdown",
      "metadata": {
        "id": "XihvznBynsYB"
      },
      "source": [
        "<b>2.Trip Duration per Store and Forward Flagt"
      ]
    },
    {
      "cell_type": "code",
      "execution_count": null,
      "metadata": {
        "id": "1nmp4ZZmha2C"
      },
      "outputs": [],
      "source": [
        "plt.figure(figsize = (10,5))\n",
        "sns.catplot(y='trip_duration',x='store_and_fwd_flag',data=nyc_taxi,kind='strip')\n",
        "plt.xlabel('Store and Forward Flag')\n",
        "plt.ylabel('Duration (seconds)')\n",
        "plt.show()"
      ]
    },
    {
      "cell_type": "markdown",
      "metadata": {
        "id": "CpC9b1Xsn1nL"
      },
      "source": [
        "So from the above graph we can come to know that mostely long trips data havent store on server."
      ]
    },
    {
      "cell_type": "markdown",
      "metadata": {
        "id": "7nC4ZmirogX1"
      },
      "source": [
        "<b>3.Trip Duration per hour"
      ]
    },
    {
      "cell_type": "code",
      "execution_count": null,
      "metadata": {
        "id": "Hi74jVRWhazD"
      },
      "outputs": [],
      "source": [
        "plt.figure(figsize = (10,5))\n",
        "sns.lineplot(x='pickup_hour',y='trip_duration',data=nyc_taxi)\n",
        "plt.xlabel('Time of Pickup (24hr format)')\n",
        "plt.ylabel('Duration (seconds)')\n",
        "plt.show()"
      ]
    },
    {
      "cell_type": "markdown",
      "metadata": {
        "id": "MKhrzRxSopE6"
      },
      "source": [
        "* We see the trip duration is the maximum around 3 pm which may be because of traffic on the roads.\n",
        "* Trip duration is the lowest around 6 am as streets may not be busy."
      ]
    },
    {
      "cell_type": "markdown",
      "metadata": {
        "id": "Deq5i-Lgotcx"
      },
      "source": [
        "<b>4.Trip duration per weekday"
      ]
    },
    {
      "cell_type": "code",
      "execution_count": null,
      "metadata": {
        "id": "TTboZy16okd0"
      },
      "outputs": [],
      "source": [
        "plt.figure(figsize = (10,5))\n",
        "sns.lineplot(x='pickup_day_no',y='trip_duration',data = nyc_taxi)\n",
        "plt.ylabel('Duration (seconds)')\n",
        "plt.xlabel('week days')\n",
        "plt.show()"
      ]
    },
    {
      "cell_type": "markdown",
      "metadata": {
        "id": "jZSafRvIo5lo"
      },
      "source": [
        "Trip duration on thursday is longest among all days.\n"
      ]
    },
    {
      "cell_type": "markdown",
      "metadata": {
        "id": "pkZMt2mGo8RB"
      },
      "source": [
        "<b>5.Trip duration per month"
      ]
    },
    {
      "cell_type": "code",
      "execution_count": null,
      "metadata": {
        "id": "IeztpH1hokah"
      },
      "outputs": [],
      "source": [
        "plt.figure(figsize = (10,5))\n",
        "sns.lineplot(x='pickup_month',y='trip_duration', data = nyc_taxi)\n",
        "plt.ylabel('Duration (seconds)')\n",
        "plt.xlabel('Month of Trip ')\n",
        "plt.show()"
      ]
    },
    {
      "cell_type": "markdown",
      "metadata": {
        "id": "v5Nn0rz6pRp1"
      },
      "source": [
        "* From February, we can see trip duration rising every month.\n",
        "* There might be some seasonal parameters like wind/rain which can be a factor of this gradual increase in trip duration over a period.\n"
      ]
    },
    {
      "cell_type": "markdown",
      "metadata": {
        "id": "ou_qOCqVvgtS"
      },
      "source": [
        "<b>6.Distance and Hour"
      ]
    },
    {
      "cell_type": "code",
      "execution_count": null,
      "metadata": {
        "id": "kiuzO9tyokUX"
      },
      "outputs": [],
      "source": [
        "plt.figure(figsize = (10,5))\n",
        "sns.lineplot(y='distance',x='pickup_hour',data=nyc_taxi)\n",
        "plt.ylabel('Distance')\n",
        "plt.xlabel('Pickup Hour')\n",
        "plt.show()"
      ]
    },
    {
      "cell_type": "markdown",
      "metadata": {
        "id": "5LNN5gilvvRH"
      },
      "source": [
        "* Trip distance is highest during early morning hours.\n",
        "* It is fairly equal from morning till the evening varying around 3 - 3.5 kms.\n",
        "* It starts increasing gradually towards the late night hours starting from evening till 5 AM and decrease steeply towards morning.\n"
      ]
    },
    {
      "cell_type": "markdown",
      "metadata": {
        "id": "yZqhdBGLPRBX"
      },
      "source": [
        "**7.Passenger_count and Trip Duration**"
      ]
    },
    {
      "cell_type": "code",
      "execution_count": null,
      "metadata": {
        "id": "nC-uoI07O5rQ"
      },
      "outputs": [],
      "source": [
        "sns.catplot(y='trip_duration',x='passenger_count',data=nyc_taxi)"
      ]
    },
    {
      "cell_type": "markdown",
      "metadata": {
        "id": "LnSpec9Ywmdi"
      },
      "source": [
        "<b>8.Distance and Trip Duration"
      ]
    },
    {
      "cell_type": "code",
      "execution_count": null,
      "metadata": {
        "id": "-uZd0BZHokNL"
      },
      "outputs": [],
      "source": [
        "plt.figure(figsize = (10,5))\n",
        "plt.scatter(x='trip_duration', y='distance',data=nyc_taxi)\n",
        "plt.ylabel('Distance')\n",
        "plt.xlabel('Trip Duration')\n",
        "plt.show()\n"
      ]
    },
    {
      "cell_type": "markdown",
      "metadata": {
        "id": "S6G3BbCbRd6v"
      },
      "source": [
        "**9.Passenger_count and Distance**"
      ]
    },
    {
      "cell_type": "code",
      "execution_count": null,
      "metadata": {
        "id": "rqvmuihdPt6W"
      },
      "outputs": [],
      "source": [
        "sns.catplot(y='distance',x='passenger_count',data=nyc_taxi,kind='strip')"
      ]
    },
    {
      "cell_type": "markdown",
      "metadata": {
        "id": "Lo_Wl_uDRt_t"
      },
      "source": [
        "We see some of the longer distances are covered by either 1 or 2 or 4 passenger rides."
      ]
    },
    {
      "cell_type": "markdown",
      "source": [
        "<b>10. Pickup_month and Distance"
      ],
      "metadata": {
        "id": "yZmK63NVqozT"
      }
    },
    {
      "cell_type": "code",
      "execution_count": null,
      "metadata": {
        "id": "VcLFBZApQNOf"
      },
      "outputs": [],
      "source": [
        "plt.figure(figsize = (10,5))\n",
        "sns.lineplot(x='pickup_month',y='distance',data= nyc_taxi)"
      ]
    },
    {
      "cell_type": "markdown",
      "source": [
        "Maximum distance covered in monty of May"
      ],
      "metadata": {
        "id": "X2YMiSjwrkcl"
      }
    },
    {
      "cell_type": "markdown",
      "source": [
        "<b>11. Distance and Store and Forward Flag"
      ],
      "metadata": {
        "id": "uTbRQlxTrLaf"
      }
    },
    {
      "cell_type": "code",
      "execution_count": null,
      "metadata": {
        "id": "jQVO1ZHVP1QW"
      },
      "outputs": [],
      "source": [
        "sns.catplot(y='distance',x='store_and_fwd_flag',data=nyc_taxi,kind='strip')"
      ]
    },
    {
      "cell_type": "markdown",
      "source": [
        "More distance covered when data was not stored on server."
      ],
      "metadata": {
        "id": "pmYsRMgBsJlo"
      }
    },
    {
      "cell_type": "markdown",
      "source": [
        "<b>12. Distance and Vendor"
      ],
      "metadata": {
        "id": "PfUBz0azsjh1"
      }
    },
    {
      "cell_type": "code",
      "execution_count": null,
      "metadata": {
        "id": "heWNh0NvixBW"
      },
      "outputs": [],
      "source": [
        "sns.catplot(y='distance',x='vendor_id',data=nyc_taxi,kind='strip')"
      ]
    },
    {
      "cell_type": "markdown",
      "metadata": {
        "id": "o8ucZjjXxnc0"
      },
      "source": [
        "#<b>Feature Engineering"
      ]
    },
    {
      "cell_type": "markdown",
      "metadata": {
        "id": "IbIqvB-XxslT"
      },
      "source": [
        "**One Hot Encoding**\n",
        "\n",
        "Dummify features like 'store_and_fwd_flag', and 'pickup_weekday'."
      ]
    },
    {
      "cell_type": "code",
      "execution_count": null,
      "metadata": {
        "id": "p5Xa1TNrXghM"
      },
      "outputs": [],
      "source": [
        "nyc_taxi.head(2)"
      ]
    },
    {
      "cell_type": "code",
      "execution_count": null,
      "metadata": {
        "id": "VdW5SpmyXWC6"
      },
      "outputs": [],
      "source": [
        "nyc_taxi = pd.get_dummies(nyc_taxi, columns=[\"store_and_fwd_flag\", \"pickup_timeofday\",\"dropoff_timeofday\"], prefix=[\"store\", \"pickup\",\"dropoff\"])"
      ]
    },
    {
      "cell_type": "markdown",
      "metadata": {
        "id": "PtxCeRDq0HU8"
      },
      "source": [
        "#<b>Correlation Analysis"
      ]
    },
    {
      "cell_type": "code",
      "execution_count": null,
      "metadata": {
        "id": "UJ1b60LearT1"
      },
      "outputs": [],
      "source": [
        "plt.figure(figsize=(20,12))\n",
        "correlation = nyc_taxi.corr()\n",
        "sns.heatmap(abs(correlation), annot=True)"
      ]
    },
    {
      "cell_type": "code",
      "execution_count": null,
      "metadata": {
        "id": "LJ3ZMD1EyQEZ"
      },
      "outputs": [],
      "source": [
        "df_corr = nyc_taxi.copy()\n",
        "df_corr.columns"
      ]
    },
    {
      "cell_type": "code",
      "execution_count": null,
      "metadata": {
        "id": "yU-wcjr3NPXQ"
      },
      "outputs": [],
      "source": [
        "df_corr.drop(['dropoff_Afternoon','dropoff_Evening', 'dropoff_Late night', 'dropoff_Morning','store_Y','store_N','dropoff_day_no',\n",
        "              'pickup_Evening','pickup_Morning','dropoff_month','dropoff_hour', 'id'],axis=1,inplace=True)"
      ]
    },
    {
      "cell_type": "code",
      "execution_count": null,
      "metadata": {
        "id": "MCdt9pILz9Zx"
      },
      "outputs": [],
      "source": [
        "df_corr.columns"
      ]
    },
    {
      "cell_type": "code",
      "execution_count": null,
      "metadata": {
        "id": "rf0_EowBi3B-"
      },
      "outputs": [],
      "source": [
        "plt.figure(figsize=(20,12))\n",
        "correlation = df_corr.corr()\n",
        "sns.heatmap(abs(correlation), annot=True)"
      ]
    },
    {
      "cell_type": "markdown",
      "metadata": {
        "id": "JmD3sDnqb9bp"
      },
      "source": [
        "#<b>Prepairing Dataset for Modeling"
      ]
    },
    {
      "cell_type": "code",
      "execution_count": null,
      "metadata": {
        "id": "spqPYBWYsE7d"
      },
      "outputs": [],
      "source": [
        "independent_variables=['pickup_longitude', 'pickup_latitude','dropoff_longitude', 'dropoff_latitude','distance', 'pickup_hour']\n",
        "\n",
        "dependent_variables = 'trip_duration'"
      ]
    },
    {
      "cell_type": "code",
      "execution_count": null,
      "metadata": {
        "id": "sVSX7hcEUN1n"
      },
      "outputs": [],
      "source": [
        "X = df_corr[independent_variables]\n",
        "\n",
        "y = df_corr[dependent_variables]"
      ]
    },
    {
      "cell_type": "code",
      "execution_count": null,
      "metadata": {
        "id": "aEEn3D6JXbKr"
      },
      "outputs": [],
      "source": [
        "print(X.shape)\n",
        "print(y.shape)"
      ]
    },
    {
      "cell_type": "code",
      "execution_count": null,
      "metadata": {
        "id": "4QFDkDzJVVpi"
      },
      "outputs": [],
      "source": [
        "from sklearn.preprocessing import MinMaxScaler\n",
        "from sklearn.preprocessing import StandardScaler"
      ]
    },
    {
      "cell_type": "code",
      "execution_count": null,
      "metadata": {
        "id": "XB4bmF6xU0ZJ"
      },
      "outputs": [],
      "source": [
        "scaler = StandardScaler()\n",
        "X = scaler.fit_transform(X)"
      ]
    },
    {
      "cell_type": "code",
      "execution_count": null,
      "metadata": {
        "id": "N7QtSby0VZG1"
      },
      "outputs": [],
      "source": [
        "X[0:2]"
      ]
    },
    {
      "cell_type": "markdown",
      "metadata": {
        "id": "m7aYWtgt13Lo"
      },
      "source": [
        "<b>Splitting the data in train and test sets"
      ]
    },
    {
      "cell_type": "code",
      "execution_count": null,
      "metadata": {
        "id": "u72bhuxh0KYp"
      },
      "outputs": [],
      "source": [
        "from sklearn.model_selection import train_test_split\n",
        "\n",
        "X_train, X_test, y_train, y_test = train_test_split(X, y, test_size=0.35, random_state=0)"
      ]
    },
    {
      "cell_type": "markdown",
      "metadata": {
        "id": "2hl26Wkr2NNs"
      },
      "source": [
        "Splited the selected data set in 65-35 split for training and testing purpose respectively"
      ]
    },
    {
      "cell_type": "code",
      "execution_count": null,
      "metadata": {
        "id": "H0wCYG6hXrlc"
      },
      "outputs": [],
      "source": [
        "print('Train Data Shape')\n",
        "print(X_train.shape)\n",
        "print(y_train.shape)\n",
        "print('\\n')\n",
        "print('Test Data Shape')\n",
        "print(X_test.shape)\n",
        "print(y_test.shape)"
      ]
    },
    {
      "cell_type": "code",
      "execution_count": null,
      "metadata": {
        "id": "6rCRbXdGa3g-"
      },
      "outputs": [],
      "source": [
        "from sklearn.metrics import r2_score\n",
        "from sklearn.metrics import mean_squared_error\n",
        "from sklearn.metrics import mean_absolute_error"
      ]
    },
    {
      "cell_type": "markdown",
      "metadata": {
        "id": "pRjXnAQuYmJn"
      },
      "source": [
        "#<b>Linear Regression"
      ]
    },
    {
      "cell_type": "code",
      "execution_count": null,
      "metadata": {
        "id": "jNin80b80KWB"
      },
      "outputs": [],
      "source": [
        "from sklearn.linear_model import LinearRegression\n",
        "linear_reg =  LinearRegression()\n",
        "\n",
        "linear_reg.fit(X_train, y_train)"
      ]
    },
    {
      "cell_type": "code",
      "execution_count": null,
      "metadata": {
        "id": "OXRfktoMZs0v"
      },
      "outputs": [],
      "source": [
        "linear_reg.score(X_train, y_train)"
      ]
    },
    {
      "cell_type": "code",
      "execution_count": null,
      "metadata": {
        "id": "lnpcJrMzcAxe"
      },
      "outputs": [],
      "source": [
        "y_pred_train = linear_reg.predict(X_train)\n",
        "y_pred_test = linear_reg.predict(X_test)"
      ]
    },
    {
      "cell_type": "markdown",
      "metadata": {
        "id": "747M2Ez9rShs"
      },
      "source": [
        "<b>Linear Regression Model Evaluation"
      ]
    },
    {
      "cell_type": "code",
      "execution_count": null,
      "metadata": {
        "id": "CZchcpoWbQZf"
      },
      "outputs": [],
      "source": [
        "lr_train_mse  = mean_squared_error((y_train), (y_pred_train))\n",
        "print(\"Train MSE :\" , lr_train_mse)\n",
        "\n",
        "lr_train_r2 = r2_score((y_train), (y_pred_train))\n",
        "print(\"Train R2 :\" ,lr_train_r2) \n",
        "\n",
        "lr_train_r2_ = 1-(1-r2_score((y_train), (y_pred_train)))*((X_train.shape[0]-1)/(X_train.shape[0]-X_train.shape[1]-1))\n",
        "print(\"Train Adjusted R2 : \",lr_train_r2_)"
      ]
    },
    {
      "cell_type": "code",
      "execution_count": null,
      "metadata": {
        "id": "1PVZAwxecvx6"
      },
      "outputs": [],
      "source": [
        "lr_test_mse  = mean_squared_error((y_test), (y_pred_test))\n",
        "print(\"Test MSE :\" , lr_test_mse)\n",
        "\n",
        "lr_test_r2 = r2_score((y_test), (y_pred_test))\n",
        "print(\"Test R2 :\" ,lr_test_r2)\n",
        "\n",
        "lr_test_r2_ = 1-(1-r2_score((y_test), (y_pred_test)))*((X_test.shape[0]-1)/(X_test.shape[0]-X_test.shape[1]-1))\n",
        "print(\"Test Adjusted R2 : \",lr_test_r2_)"
      ]
    },
    {
      "cell_type": "code",
      "execution_count": null,
      "metadata": {
        "id": "AXx5xqU33TxZ"
      },
      "outputs": [],
      "source": [
        "plt.figure(figsize= (10,5))\n",
        "c= [i for i in range(0, len(y_test))]\n",
        "plt.plot(c, y_test-y_pred_test, color='blue', linewidth=2.5, linestyle='-')\n",
        "plt.title('Error Term', fontsize=20)\n",
        "plt.show()"
      ]
    },
    {
      "cell_type": "code",
      "execution_count": null,
      "metadata": {
        "id": "aF5hbq2K3Tys"
      },
      "outputs": [],
      "source": [
        "plt.figure(figsize= (10,5))\n",
        "c= [i for i in range(0, len(y_test))]\n",
        "plt.plot(c, y_test, color='blue', linewidth=2.5, linestyle='-')\n",
        "plt.plot(c, y_pred_test, color='red', linewidth=2.5, linestyle='-')\n",
        "plt.title('Actual vs Predicted for Test Data', fontsize=20)\n",
        "plt.legend([\"Actual\", \"Predicted\"])\n",
        "plt.show()"
      ]
    },
    {
      "cell_type": "markdown",
      "metadata": {
        "id": "PgmnP9IF4u-O"
      },
      "source": [
        "As we can clearly see the Linear regression model does not provide us with high accuracy. It has high prediction error on the metrics we tested."
      ]
    },
    {
      "cell_type": "code",
      "source": [
        "plt.figure(figsize=(10,5))\n",
        "sns.distplot(y_test - y_pred_test)\n",
        "plt.title('Error Term', fontsize=20)\n",
        "plt.show()"
      ],
      "metadata": {
        "id": "qZB8Hn7o6VTW"
      },
      "execution_count": null,
      "outputs": []
    },
    {
      "cell_type": "markdown",
      "metadata": {
        "id": "3cLz4rie40WN"
      },
      "source": [
        "#<b>Running Lasso Regression"
      ]
    },
    {
      "cell_type": "code",
      "execution_count": null,
      "metadata": {
        "id": "-BvLqZ063Tuu"
      },
      "outputs": [],
      "source": [
        "from sklearn.linear_model import Lasso\n",
        "from sklearn.model_selection import GridSearchCV\n",
        "lasso = Lasso()\n",
        "parameters = {'alpha': [1e-15,1e-13,1e-10,1e-8,1e-5,1e-4,1e-3,1e-2,1e-1,1,5,10,20,30,40,45,50,55,60,100]}\n",
        "lasso_regressor = GridSearchCV(lasso, parameters, scoring='r2', cv=5)"
      ]
    },
    {
      "cell_type": "code",
      "execution_count": null,
      "metadata": {
        "id": "BI7r8UWNTx0m"
      },
      "outputs": [],
      "source": [
        "lasso_regressor.fit(X_train, y_train)"
      ]
    },
    {
      "cell_type": "code",
      "execution_count": null,
      "metadata": {
        "id": "3s8Clzwq3TtG"
      },
      "outputs": [],
      "source": [
        "print('The best fit alpha value is found out to be :', lasso_regressor.best_params_)\n",
        "print('The R2 score using the same alpha is :', lasso_regressor.best_score_)"
      ]
    },
    {
      "cell_type": "markdown",
      "metadata": {
        "id": "4APHetL-RZzs"
      },
      "source": [
        "**The best parameters for the LASSO Regression which we already tested before to save time when running it again.**\n",
        "* The best fit alpha value is found out to be : {'alpha': 0.01}"
      ]
    },
    {
      "cell_type": "code",
      "execution_count": null,
      "metadata": {
        "id": "5Sh31U993Tqu"
      },
      "outputs": [],
      "source": [
        "lasso_regressor.score(X_train, y_train)"
      ]
    },
    {
      "cell_type": "code",
      "execution_count": null,
      "metadata": {
        "id": "3F6CPK-r3Tph"
      },
      "outputs": [],
      "source": [
        "y_pred_lasso_train = lasso_regressor.predict(X_train)\n",
        "y_pred_lasso_test = lasso_regressor.predict(X_test)"
      ]
    },
    {
      "cell_type": "markdown",
      "metadata": {
        "id": "Y_pA4HM_5X5K"
      },
      "source": [
        "<b>Lasso Regression Model Evaluation"
      ]
    },
    {
      "cell_type": "code",
      "execution_count": null,
      "metadata": {
        "id": "_YJ7Ga1P3TlT"
      },
      "outputs": [],
      "source": [
        "lasso_train_mse  = mean_squared_error(y_train, y_pred_lasso_train)\n",
        "print(\"Train MSE :\" , lasso_train_mse)\n",
        "\n",
        "lasso_train_r2 = r2_score(y_train, y_pred_lasso_train)\n",
        "print(\"Train R2 :\" ,lasso_train_r2)\n",
        "\n",
        "lasso_train_r2_= 1-(1-r2_score(y_train, y_pred_lasso_train))*((X_train.shape[0]-1)/(X_train.shape[0]-X_train.shape[1]-1))\n",
        "print(\"Train Adjusted R2 : \", lasso_train_r2)"
      ]
    },
    {
      "cell_type": "code",
      "execution_count": null,
      "metadata": {
        "id": "Eiuv_p5J3TjI"
      },
      "outputs": [],
      "source": [
        "lasso_test_mse  = mean_squared_error(y_test, y_pred_lasso_test)\n",
        "print(\"Test MSE :\" , lasso_test_mse)\n",
        "\n",
        "lasso_test_r2 = r2_score(y_test, y_pred_lasso_test)\n",
        "print(\"Test R2 :\" ,lasso_test_r2)\n",
        "\n",
        "lasso_test_r2_= 1-(1-r2_score(y_test, y_pred_lasso_test))*((X_test.shape[0]-1)/(X_test.shape[0]-X_test.shape[1]-1))\n",
        "print(\"Test Adjusted R2 : \", lasso_test_r2_)"
      ]
    },
    {
      "cell_type": "code",
      "execution_count": null,
      "metadata": {
        "id": "wW41xTNd3TfU"
      },
      "outputs": [],
      "source": [
        "plt.figure(figsize= (10,5))\n",
        "c= [i for i in range(0, len(y_test))]\n",
        "plt.plot(c, y_test-y_pred_lasso_test, color='blue', linewidth=2.5, linestyle='-')\n",
        "plt.title('Error Term', fontsize=20)\n",
        "plt.show()"
      ]
    },
    {
      "cell_type": "code",
      "execution_count": null,
      "metadata": {
        "id": "zXyM1wSt3Th6"
      },
      "outputs": [],
      "source": [
        "plt.figure(figsize= (10,5))\n",
        "c= [i for i in range(0, len(y_test))]\n",
        "plt.plot(c, y_test, color='blue', linewidth=2.5, linestyle='-')\n",
        "plt.plot(c, y_pred_lasso_test, color='red', linewidth=2.5, linestyle='-')\n",
        "plt.title('Actual vs Predicted for Test Data', fontsize=20)\n",
        "plt.legend([\"Actual\", \"Predicted\"])\n",
        "plt.show()"
      ]
    },
    {
      "cell_type": "markdown",
      "metadata": {
        "id": "OrjXtt8u55Pr"
      },
      "source": [
        "The Lasso regresion model doesn't improve on the Linear model either."
      ]
    },
    {
      "cell_type": "code",
      "source": [
        "plt.figure(figsize=(10,5))\n",
        "sns.distplot(y_test - y_pred_lasso_test)\n",
        "plt.title('Error Term', fontsize=20)\n",
        "plt.show()"
      ],
      "metadata": {
        "id": "2x3iSpe97PPa"
      },
      "execution_count": null,
      "outputs": []
    },
    {
      "cell_type": "markdown",
      "metadata": {
        "id": "rzt4nl7_57YW"
      },
      "source": [
        "#<b>Running Ridge Regression"
      ]
    },
    {
      "cell_type": "code",
      "execution_count": null,
      "metadata": {
        "id": "dlu-Ez5D5vXd"
      },
      "outputs": [],
      "source": [
        "from sklearn.linear_model import Ridge\n",
        "ridge = Ridge()\n",
        "parameters = {'alpha': [1e-15,1e-13,1e-10,1e-8,1e-5,1e-4,1e-3,1e-2,1e-1,1,5,10,20,30,40,45,50,55,60,100]}\n",
        "ridge_regressor = GridSearchCV(ridge, parameters, scoring='r2', cv=5)\n",
        "ridge_regressor.fit(X_train, y_train)"
      ]
    },
    {
      "cell_type": "code",
      "execution_count": null,
      "metadata": {
        "id": "_-CUpOOJ5vTs"
      },
      "outputs": [],
      "source": [
        "print('The best fit alpha value is found out to be :' ,ridge_regressor.best_params_)\n",
        "print('The R2 score using the same alpha is :', ridge_regressor.best_score_)"
      ]
    },
    {
      "cell_type": "markdown",
      "metadata": {
        "id": "yR4NGKt_SRaZ"
      },
      "source": [
        "**The best parameters for the RIDGE Regression which we already tested before to save time when running it again.**\n",
        "* The best fit alpha value is found out to be : {'alpha': 30}"
      ]
    },
    {
      "cell_type": "code",
      "execution_count": null,
      "metadata": {
        "id": "Tq32r7Y25vRF"
      },
      "outputs": [],
      "source": [
        "y_pred_ridge_train=ridge_regressor.predict(X_train)\n",
        "y_pred_ridge_test = ridge_regressor.predict(X_test)"
      ]
    },
    {
      "cell_type": "markdown",
      "metadata": {
        "id": "g6u-6oH968w_"
      },
      "source": [
        "<b>Ridge Regression Model Evaluation"
      ]
    },
    {
      "cell_type": "code",
      "execution_count": null,
      "metadata": {
        "id": "NysWmT7j5vOf"
      },
      "outputs": [],
      "source": [
        "ridge_train_mse  = mean_squared_error(y_train, y_pred_ridge_train)\n",
        "print(\"Train MSE :\" , ridge_train_mse)\n",
        "\n",
        "ridge_train_r2 = r2_score(y_train, y_pred_ridge_train)\n",
        "print(\"Train R2 :\" ,ridge_train_r2)\n",
        "\n",
        "ridge_train_r2_= 1-(1-r2_score(y_train, y_pred_ridge_train))*((X_train.shape[0]-1)/(X_train.shape[0]-X_train.shape[1]-1))\n",
        "print(\"Train Adjusted R2 : \", ridge_train_r2)"
      ]
    },
    {
      "cell_type": "code",
      "execution_count": null,
      "metadata": {
        "id": "iEsu4tE85vNG"
      },
      "outputs": [],
      "source": [
        "ridge_test_mse  = mean_squared_error(y_test, y_pred_ridge_test)\n",
        "print(\"Test MSE :\" , ridge_test_mse)\n",
        "\n",
        "ridge_test_r2 = r2_score(y_test, y_pred_ridge_test)\n",
        "print(\"Test R2 :\" ,ridge_test_r2)\n",
        "\n",
        "ridge_test_r2_= 1-(1-r2_score(y_test, y_pred_ridge_test))*((X_test.shape[0]-1)/(X_test.shape[0]-X_test.shape[1]-1))\n",
        "print(\"Test Adjusted R2 : \", ridge_test_r2_)"
      ]
    },
    {
      "cell_type": "code",
      "execution_count": null,
      "metadata": {
        "id": "vCfSl66E5vIz"
      },
      "outputs": [],
      "source": [
        "plt.figure(figsize= (10,5))\n",
        "c= [i for i in range(0, len(y_test))]\n",
        "plt.plot(c, y_test-y_pred_ridge_test, color='blue', linewidth=2.5, linestyle='-')\n",
        "plt.title('Error Term', fontsize=20)\n",
        "plt.show()"
      ]
    },
    {
      "cell_type": "code",
      "execution_count": null,
      "metadata": {
        "id": "wTvFUim75vKR"
      },
      "outputs": [],
      "source": [
        "plt.figure(figsize= (10,5))\n",
        "c= [i for i in range(0, len(y_test))]\n",
        "plt.plot(c, y_test, color='blue', linewidth=2.5, linestyle='-')\n",
        "plt.plot(c, y_pred_ridge_test, color='red', linewidth=2.5, linestyle='-')\n",
        "plt.title('Actual vs Predicted for Test Data', fontsize=20)\n",
        "plt.legend([\"Actual\", \"Predicted\"])\n",
        "plt.show()"
      ]
    },
    {
      "cell_type": "markdown",
      "metadata": {
        "id": "sO92mCpa7UuQ"
      },
      "source": [
        "The Ridge regresion model doesn't improve on the Linear model either."
      ]
    },
    {
      "cell_type": "code",
      "source": [
        "plt.figure(figsize=(10,5))\n",
        "sns.distplot(y_test - y_pred_ridge_test)\n",
        "plt.title('Error Term', fontsize=20)\n",
        "plt.show()"
      ],
      "metadata": {
        "id": "F7jo9zCa7zkG"
      },
      "execution_count": null,
      "outputs": []
    },
    {
      "cell_type": "markdown",
      "metadata": {
        "id": "7HRFse6N7f0g"
      },
      "source": [
        "#<b>Running Decision Tree Regressor"
      ]
    },
    {
      "cell_type": "code",
      "execution_count": null,
      "metadata": {
        "id": "iVMEQfyM5vGZ"
      },
      "outputs": [],
      "source": [
        "from sklearn.tree import DecisionTreeRegressor"
      ]
    },
    {
      "cell_type": "code",
      "execution_count": null,
      "metadata": {
        "id": "6RzE5-6E5vE-"
      },
      "outputs": [],
      "source": [
        "max_depth = [4,6,8,10]\n",
        "\n",
        "min_samples_split = [10,20,30]\n",
        "\n",
        "min_samples_leaf = [8,16,22]\n",
        "\n",
        "param_dict_dt = {'max_depth' : max_depth,'min_samples_split' : min_samples_split,'min_samples_leaf' : min_samples_leaf}"
      ]
    },
    {
      "cell_type": "code",
      "execution_count": null,
      "metadata": {
        "id": "Ad19W-GZ5u_3"
      },
      "outputs": [],
      "source": [
        "dt = DecisionTreeRegressor()\n",
        "\n",
        "dt_grid = GridSearchCV(estimator=dt, param_grid = param_dict_dt, cv = 5, verbose=2, scoring='r2')\n",
        "\n",
        "dt_grid.fit(X_train,y_train)"
      ]
    },
    {
      "cell_type": "code",
      "execution_count": null,
      "metadata": {
        "id": "plT_JuORhWv1"
      },
      "outputs": [],
      "source": [
        "print('The best fit alpha value is found out to be :' ,dt_grid.best_params_)\n",
        "print('The R2 score using the same alpha is :', dt_grid.best_score_)"
      ]
    },
    {
      "cell_type": "markdown",
      "metadata": {
        "id": "9VdfG84JSmyu"
      },
      "source": [
        "**The best parameters for the Decision Tree Regression which we already tested before to save time when running it again.**\n",
        "* {'max_depth': 10, 'min_samples_leaf': 22, 'min_samples_split': 30}"
      ]
    },
    {
      "cell_type": "code",
      "execution_count": null,
      "metadata": {
        "id": "zuXo1yBM8Nha"
      },
      "outputs": [],
      "source": [
        "y_pred_dt_train=dt_grid.predict(X_train)\n",
        "y_pred_dt_test=dt_grid.predict(X_test)"
      ]
    },
    {
      "cell_type": "markdown",
      "metadata": {
        "id": "9yAIZdTi8miM"
      },
      "source": [
        "<b>Decision Tree Regressor Model Evaluation"
      ]
    },
    {
      "cell_type": "code",
      "execution_count": null,
      "metadata": {
        "id": "9xFcDY0i8NgR"
      },
      "outputs": [],
      "source": [
        "dt_train_mse  = mean_squared_error(y_train, y_pred_dt_train)\n",
        "print(\"Train MSE :\" , dt_train_mse)\n",
        "\n",
        "dt_train_r2 = r2_score(y_train, y_pred_dt_train)\n",
        "print(\"Train R2 :\" ,dt_train_r2)\n",
        "\n",
        "dt_train_r2_= 1-(1-r2_score(y_train, y_pred_dt_train))*((X_train.shape[0]-1)/(X_train.shape[0]-X_train.shape[1]-1))\n",
        "print(\"Train Adjusted R2 : \", dt_train_r2_)"
      ]
    },
    {
      "cell_type": "code",
      "execution_count": null,
      "metadata": {
        "id": "AHceMLyk8Ne5"
      },
      "outputs": [],
      "source": [
        "dt_test_mse  = mean_squared_error(y_test, y_pred_dt_test)\n",
        "print(\"Test MSE :\" , dt_test_mse)\n",
        "\n",
        "dt_test_r2 = r2_score(y_test, y_pred_dt_test)\n",
        "print(\"Test R2 :\" ,dt_test_r2)\n",
        "\n",
        "dt_test_r2_= 1-(1-r2_score(y_test, y_pred_dt_test))*((X_test.shape[0]-1)/(X_test.shape[0]-X_test.shape[1]-1))\n",
        "print(\"Test Adjusted R2 : \", dt_test_r2_)"
      ]
    },
    {
      "cell_type": "code",
      "execution_count": null,
      "metadata": {
        "id": "ueRkFP338NbC"
      },
      "outputs": [],
      "source": [
        "plt.figure(figsize= (10,5))\n",
        "c= [i for i in range(0, len(y_test))]\n",
        "plt.plot(c, y_test-y_pred_dt_test, color='blue', linewidth=2.5, linestyle='-')\n",
        "plt.title('Error Term', fontsize=20)\n",
        "plt.show()"
      ]
    },
    {
      "cell_type": "code",
      "execution_count": null,
      "metadata": {
        "id": "2Yn1kDdv8NcW"
      },
      "outputs": [],
      "source": [
        "plt.figure(figsize= (10,5))\n",
        "c= [i for i in range(0, len(y_test))]\n",
        "plt.plot(c, y_test, color='blue', linewidth=2.5, linestyle='-')\n",
        "plt.plot(c, y_pred_dt_test, color='red', linewidth=2.5, linestyle='-')\n",
        "plt.title('Actual vs Predicted for Test Data', fontsize=20)\n",
        "plt.legend([\"Actual\", \"Predicted\"])\n",
        "plt.show()"
      ]
    },
    {
      "cell_type": "code",
      "execution_count": null,
      "metadata": {
        "id": "2mCXFemh8NYg"
      },
      "outputs": [],
      "source": [
        "plt.figure(figsize=(10,5))\n",
        "sns.distplot(y_test - y_pred_dt_test )\n",
        "plt.title('Error Term', fontsize=20)\n",
        "plt.show()"
      ]
    },
    {
      "cell_type": "markdown",
      "metadata": {
        "id": "C0LB5IIl9HUy"
      },
      "source": [
        "The decision tree with the selected hyperparameters does improve the predictions of the model considerably. It still isn't ideal but it is certainly much better than Linear models."
      ]
    },
    {
      "cell_type": "markdown",
      "metadata": {
        "id": "lzlHglDHuiva"
      },
      "source": [
        "#<b>Random Forest "
      ]
    },
    {
      "cell_type": "code",
      "execution_count": null,
      "metadata": {
        "id": "EK2CiXvzdQaw"
      },
      "outputs": [],
      "source": [
        "from sklearn.ensemble import RandomForestRegressor"
      ]
    },
    {
      "cell_type": "code",
      "source": [
        "n_estimators = [int(x) for x in np.linspace(start = 100, stop = 500, num = 5)]\n",
        "max_features = ['auto', 'sqrt']\n",
        "max_depth = [int(x) for x in np.linspace(5, 30, num = 6)]\n",
        "min_samples_split = [2, 5, 10, 15, 100]\n",
        "min_samples_leaf = [1, 2, 5, 10]\n",
        "random_grid = {'n_estimators': n_estimators,'max_features': max_features,'max_depth': max_depth,'min_samples_split': min_samples_split,\n",
        "               'min_samples_leaf': min_samples_leaf}\n",
        "\n",
        "random_grid.fit(X_train, y_train)"
      ],
      "metadata": {
        "id": "40IKIW1iyu0a"
      },
      "execution_count": null,
      "outputs": []
    },
    {
      "cell_type": "markdown",
      "source": [
        "The best parameters for the Random Forest Regression which we already tested before to save time when running it again.\n",
        "\n",
        "{'n_estimators' = 40, 'n_jobs' = -4}"
      ],
      "metadata": {
        "id": "b8QFiwkezjLf"
      }
    },
    {
      "cell_type": "code",
      "execution_count": null,
      "metadata": {
        "id": "783PWDXOxWb4"
      },
      "outputs": [],
      "source": [
        "forest_reg = RandomForestRegressor(n_estimators = 40, n_jobs = -4)"
      ]
    },
    {
      "cell_type": "code",
      "execution_count": null,
      "metadata": {
        "id": "gh9sixE8vynj"
      },
      "outputs": [],
      "source": [
        "forest_reg.fit(X_train, y_train)"
      ]
    },
    {
      "cell_type": "code",
      "execution_count": null,
      "metadata": {
        "id": "auXF9l0ddQax"
      },
      "outputs": [],
      "source": [
        "y_pred_forest_train = forest_reg.predict(X_train)\n",
        "y_pred_forest_test = forest_reg.predict(X_test)"
      ]
    },
    {
      "cell_type": "markdown",
      "metadata": {
        "id": "6En8Nf3UutXU"
      },
      "source": [
        "<b>Random Forest Model Evaluation"
      ]
    },
    {
      "cell_type": "code",
      "execution_count": null,
      "metadata": {
        "id": "cM2mz5gUu5eh"
      },
      "outputs": [],
      "source": [
        "forest_train_mse  = mean_squared_error(y_train, y_pred_forest_train)\n",
        "print(\"Train MSE :\" , forest_train_mse)\n",
        "\n",
        "forest_train_r2 = r2_score(y_train, y_pred_forest_train)\n",
        "print(\"Train R2 :\" ,forest_train_r2)\n",
        "\n",
        "forest_train_r2_= 1-(1-r2_score((y_train), (y_pred_forest_train)))*((X_train.shape[0]-1)/(X_train.shape[0]-X_train.shape[1]-1))\n",
        "print(\"Train Adjusted R2 : \",forest_train_r2_)"
      ]
    },
    {
      "cell_type": "code",
      "execution_count": null,
      "metadata": {
        "id": "KTDWY4IudQax"
      },
      "outputs": [],
      "source": [
        "forest_test_mse  = mean_squared_error(y_test, y_pred_forest_test)\n",
        "print(\"Test MSE :\" , forest_test_mse)\n",
        "\n",
        "forest_test_r2 = r2_score(y_test, y_pred_forest_test)\n",
        "print(\"Test R2 :\" ,forest_test_r2)\n",
        "\n",
        "forest_test_r2_= 1-(1-r2_score((y_test), (y_pred_forest_test)))*((X_test.shape[0]-1)/(X_test.shape[0]-X_test.shape[1]-1))\n",
        "print(\"Test Adjusted R2 : \", forest_test_r2_)"
      ]
    },
    {
      "cell_type": "code",
      "execution_count": null,
      "metadata": {
        "id": "7a799HLvxu0b"
      },
      "outputs": [],
      "source": [
        "plt.figure(figsize= (10,5))\n",
        "c= [i for i in range(0, len(y_test))]\n",
        "plt.plot(c, y_test-y_pred_forest_test, color='blue', linewidth=2.5, linestyle='-')\n",
        "plt.title('Error Term', fontsize=20)\n",
        "plt.show()"
      ]
    },
    {
      "cell_type": "code",
      "execution_count": null,
      "metadata": {
        "id": "78fUsBdhxumF"
      },
      "outputs": [],
      "source": [
        "plt.figure(figsize= (10,5))\n",
        "c= [i for i in range(0, len(y_test))]\n",
        "plt.plot(c, y_test, color='blue', linewidth=2.5, linestyle='-')\n",
        "plt.plot(c, y_pred_forest_test, color='red', linewidth=2.5, linestyle='-')\n",
        "plt.title('Actual vs Predicted for Test Data', fontsize=20)\n",
        "plt.legend([\"Actual\", \"Predicted\"])\n",
        "plt.show()"
      ]
    },
    {
      "cell_type": "code",
      "execution_count": null,
      "metadata": {
        "id": "ZvjWuJQjx8hO"
      },
      "outputs": [],
      "source": [
        "plt.figure(figsize=(10,5))\n",
        "sns.distplot(y_test - y_pred_forest_test )\n",
        "plt.title('Error Term', fontsize=20)\n",
        "plt.show()"
      ]
    },
    {
      "cell_type": "markdown",
      "metadata": {
        "id": "RWCzhGV-9MWF"
      },
      "source": [
        "#<b>Running XGBoost Regressor"
      ]
    },
    {
      "cell_type": "code",
      "execution_count": null,
      "metadata": {
        "id": "PlEM83Hz9DXr"
      },
      "outputs": [],
      "source": [
        "from xgboost import XGBRegressor\n",
        "from sklearn.model_selection import GridSearchCV\n",
        "import xgboost as xgb\n",
        "from hyperopt import STATUS_OK, Trials, fmin, hp, tpe"
      ]
    },
    {
      "cell_type": "code",
      "source": [
        "xgb_model = xgb.XGBRegressor(random_state=0, objective='reg:squarederror')\n",
        "param_tuning = {'learning_rate': [0.1, 0.2, 0.3],'max_depth': [5, 8, 10],'min_samples_' : [2,4,6],'n_estimators' : [100,200,300]}\n",
        "\n",
        "xgb_model = GridSearchCV(xgb_model, param_grid = param_tuning,scoring = 'r2', cv=5,verbose=1,)\n",
        "xgb_model.fit(X_train,y_train)"
      ],
      "metadata": {
        "id": "qprmdjRlwjM8"
      },
      "execution_count": null,
      "outputs": []
    },
    {
      "cell_type": "markdown",
      "metadata": {
        "id": "RDUDMFdYXfvM"
      },
      "source": [
        "**The best parameters for the XGBoost which we already tested before to save time when running it again.**\n",
        "* {'learning_rate': 0.2, 'max_depth': 8, 'min_samples_': 4, 'n_estimators': 200}"
      ]
    },
    {
      "cell_type": "code",
      "execution_count": null,
      "metadata": {
        "id": "Je9L1LhIyg2y"
      },
      "outputs": [],
      "source": [
        "xgb_model = xgb.XGBRegressor()\n",
        "grid_values = {'n_estimators' : [200], 'max_depth': [8],'min_samples_' : [4],'learning_rate' : [0.2]}\n",
        "xgb_model = GridSearchCV(estimator = xgb_model, param_grid = grid_values, scoring = 'r2', cv=3,verbose=1,)"
      ]
    },
    {
      "cell_type": "code",
      "execution_count": null,
      "metadata": {
        "id": "vu96YuV1MHdF"
      },
      "outputs": [],
      "source": [
        "xgb_model.fit(X_train,y_train)"
      ]
    },
    {
      "cell_type": "code",
      "execution_count": null,
      "metadata": {
        "id": "Zo30suPJiAIX"
      },
      "outputs": [],
      "source": [
        "print('The R2 score using the same alpha is :', xgb_model.best_score_)"
      ]
    },
    {
      "cell_type": "code",
      "execution_count": null,
      "metadata": {
        "id": "TQ2htt17MHZ1"
      },
      "outputs": [],
      "source": [
        "xgb_model.best_params_"
      ]
    },
    {
      "cell_type": "code",
      "execution_count": null,
      "metadata": {
        "id": "dqeni3E6dBi5"
      },
      "outputs": [],
      "source": [
        "y_pred_xgb_train=xgb_model.predict(X_train)\n",
        "y_pred_xgb_test=xgb_model.predict(X_test)"
      ]
    },
    {
      "cell_type": "markdown",
      "metadata": {
        "id": "LDLl8XUpeWTQ"
      },
      "source": [
        "<b>XGBoost Regressor Model Evaluation"
      ]
    },
    {
      "cell_type": "code",
      "execution_count": null,
      "metadata": {
        "id": "7FlLrGIZeX3t"
      },
      "outputs": [],
      "source": [
        "xgb_train_mse  = mean_squared_error(y_train, y_pred_xgb_train)\n",
        "print(\"Train MSE :\" , xgb_train_mse)\n",
        "\n",
        "xgb_train_r2 = r2_score(y_train, y_pred_xgb_train)\n",
        "print(\"Train R2 :\" ,xgb_train_r2)\n",
        "\n",
        "xgb_train_r2_= 1-(1-r2_score((y_train), (y_pred_xgb_train)))*((X_train.shape[0]-1)/(X_train.shape[0]-X_train.shape[1]-1))\n",
        "print(\"Train Adjusted R2 : \", xgb_train_r2_)"
      ]
    },
    {
      "cell_type": "code",
      "execution_count": null,
      "metadata": {
        "id": "JFTa4HWPfJoM"
      },
      "outputs": [],
      "source": [
        "xgb_test_mse  = mean_squared_error(y_test, y_pred_xgb_test)\n",
        "print(\"Test MSE :\" , xgb_test_mse)\n",
        "\n",
        "xgb_test_r2 = r2_score(y_test, y_pred_xgb_test)\n",
        "print(\"Test R2 :\" ,xgb_test_r2)\n",
        "\n",
        "xgb_test_r2_= 1-(1-r2_score((y_test), (y_pred_xgb_test)))*((X_test.shape[0]-1)/(X_test.shape[0]-X_test.shape[1]-1))\n",
        "print(\"Test Adjusted R2 : \", xgb_test_r2_)"
      ]
    },
    {
      "cell_type": "code",
      "execution_count": null,
      "metadata": {
        "id": "WoNo2nwQfL4o"
      },
      "outputs": [],
      "source": [
        "plt.figure(figsize= (10,5))\n",
        "c= [i for i in range(0, len(y_test))]\n",
        "plt.plot(c, y_test-y_pred_xgb_test, color='blue', linewidth=2.5, linestyle='-')\n",
        "plt.title('Error Term', fontsize=20)\n",
        "plt.show()"
      ]
    },
    {
      "cell_type": "code",
      "execution_count": null,
      "metadata": {
        "id": "LcpXECjDfL7X"
      },
      "outputs": [],
      "source": [
        "plt.figure(figsize= (10,5))\n",
        "c= [i for i in range(0, len(y_test))]\n",
        "plt.plot(c, y_test, color='blue', linewidth=2.5, linestyle='-')\n",
        "plt.plot(c, y_pred_xgb_test, color='red', linewidth=2.5, linestyle='-')\n",
        "plt.title('Actual vs Predicted for Test Data', fontsize=20)\n",
        "plt.legend([\"Actual\", \"Predicted\"])\n",
        "plt.show()"
      ]
    },
    {
      "cell_type": "code",
      "execution_count": null,
      "metadata": {
        "id": "ny2AIFQ51e3n"
      },
      "outputs": [],
      "source": [
        "plt.figure(figsize=(10,5))\n",
        "sns.distplot(y_test - y_pred_xgb_test)\n",
        "plt.title('Error Term', fontsize=20)\n",
        "plt.show()"
      ]
    },
    {
      "cell_type": "markdown",
      "metadata": {
        "id": "6MVkOoAFfa1D"
      },
      "source": [
        "##<b>Finally, let's also look the feature importance."
      ]
    },
    {
      "cell_type": "code",
      "execution_count": null,
      "metadata": {
        "id": "6xcvNhcOfL10"
      },
      "outputs": [],
      "source": [
        "importance_df= pd.DataFrame({'Features': independent_variables, 'Feature_importance': list(xgb_model.best_estimator_.feature_importances_)})\n",
        "importance_df"
      ]
    },
    {
      "cell_type": "code",
      "execution_count": null,
      "metadata": {
        "id": "rRWmQRMMfmGq"
      },
      "outputs": [],
      "source": [
        "importance_df.sort_values(by=['Feature_importance'],ascending=False,inplace=True)"
      ]
    },
    {
      "cell_type": "markdown",
      "metadata": {
        "id": "Cn42VkCsfps3"
      },
      "source": [
        "Let's look it by using bar grabh."
      ]
    },
    {
      "cell_type": "code",
      "source": [
        "plt.figure(figsize=(15,6))\n",
        "plt.title('Feature Importance', fontsize=20)\n",
        "sns.barplot(x=\"Feature_importance\",y='Features', data=importance_df[:6], orient = 'h')\n",
        "plt.show()"
      ],
      "metadata": {
        "id": "AgnehDDr-1dY"
      },
      "execution_count": null,
      "outputs": []
    },
    {
      "cell_type": "markdown",
      "metadata": {
        "id": "u9zDYVi3fyHI"
      },
      "source": [
        "Clearly, we can see distance is the top contributor to trip duration followed by different days of the weeks."
      ]
    },
    {
      "cell_type": "markdown",
      "metadata": {
        "id": "YUXkLC_0f-MU"
      },
      "source": [
        "#<b>Evaluating the models\n",
        "Models Summary for the Train data."
      ]
    },
    {
      "cell_type": "code",
      "execution_count": null,
      "metadata": {
        "id": "dNuaDGtRfl_o"
      },
      "outputs": [],
      "source": [
        "models= ['Linear Regression', 'Lasso Regression', 'Ridge Regression','DecisionTree Regressor','Ramdom Forest' 'XGBoost Regressor']\n",
        "train_mse= [lr_train_mse, lasso_train_mse, ridge_train_mse, dt_train_mse, forest_train_mse, xgb_train_mse]\n",
        "train_r2= [lr_train_r2, lasso_train_r2, ridge_train_r2, dt_train_r2, forest_train_r2, xgb_train_r2]\n",
        "train_adjusted_r2= [lr_train_r2_, lasso_train_r2_, ridge_train_r2_, dt_train_r2_, forest_train_r2_, xgb_train_r2_]"
      ]
    },
    {
      "cell_type": "markdown",
      "metadata": {
        "id": "TDwsXjNIgMim"
      },
      "source": [
        "<b>Models Summary for the test data."
      ]
    },
    {
      "cell_type": "code",
      "execution_count": null,
      "metadata": {
        "id": "V8t4M4K0fl-Q"
      },
      "outputs": [],
      "source": [
        "models= ['Linear Regression', 'Lasso Regression', 'Ridge Regression','DecisionTree Regressor','Ramdom Forest', 'XGBoost Regressor']\n",
        "test_mse= [lr_test_mse, lasso_test_mse, ridge_test_mse, dt_test_mse, forest_test_mse, xgb_test_mse]\n",
        "test_r2= [lr_test_r2, lasso_test_r2, ridge_test_r2, dt_test_r2, forest_test_r2, xgb_test_r2]\n",
        "test_adjusted_r2= [lr_test_r2_, lasso_test_r2_, ridge_test_r2_, dt_test_r2_, forest_test_r2_, xgb_test_r2_]"
      ]
    },
    {
      "cell_type": "markdown",
      "metadata": {
        "id": "Y7KrCBkYExjh"
      },
      "source": [
        "<b>Model Comparison & Selection"
      ]
    },
    {
      "cell_type": "code",
      "execution_count": null,
      "metadata": {
        "id": "GUrOq9iaDttL"
      },
      "outputs": [],
      "source": [
        "model_comparison = pd.DataFrame({'Model Name': models,\n",
        "                          'Train MSE': train_mse,'Test MSE': test_mse,\n",
        "                          'Train R^2': train_r2, 'Test R^2': test_r2,\n",
        "                          'Train Adjusted R^2': train_adjusted_r2, 'Test Adjusted R^2': test_adjusted_r2})\n",
        "model_comparison"
      ]
    },
    {
      "cell_type": "markdown",
      "metadata": {
        "id": "zxfePvvIgeCA"
      },
      "source": [
        "#**Conclusion**\n",
        "* We can see that MSE and R2 and Adjusted R2 which are the metrics used to evaluate the performance of regression model of **Linear Regression, Lasso, Ridge, Decision Tree, Random Forest and XGBoost Regressor.**\n",
        "* The Linear models don't show good performance on our training and testing environment.\n",
        "* From above table we can conclude that **XGBoost Regressor (81%)** is the best models as compare to the other models to predict the trip duration for a particular taxi."
      ]
    }
  ]
}